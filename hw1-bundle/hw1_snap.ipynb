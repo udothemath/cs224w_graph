{
 "cells": [
  {
   "cell_type": "code",
   "execution_count": 2,
   "metadata": {},
   "outputs": [
    {
     "output_type": "stream",
     "name": "stdout",
     "text": "Hello World\n"
    }
   ],
   "source": [
    "import sys\n",
    "import snap\n",
    "import itertools\n",
    "from IPython.display import Image, display\n",
    "\n",
    "print(\"Hello World\")\n"
   ]
  },
  {
   "cell_type": "code",
   "execution_count": 25,
   "metadata": {},
   "outputs": [],
   "source": [
    "def get_nodes_and_edges(my_graph):\n",
    "    n_nodes = my_graph.GetNodes()\n",
    "    n_edges = my_graph.GetEdges()\n",
    "    print(f\"The graph has {n_nodes:,d} nodes, {n_edges:,d} edges.\")\n",
    "\n",
    "def show_g(graph, case_name, print_info=True):\n",
    "    case_txt = case_name+\".txt\"\n",
    "    case_png = case_name+\".png\"\n",
    "    snap.DrawGViz(graph, snap.gvlDot, case_png, case_name)\n",
    "    if print_info:\n",
    "        get_nodes_and_edges(graph)\n",
    "    return Image(case_png)"
   ]
  },
  {
   "cell_type": "code",
   "execution_count": 26,
   "metadata": {},
   "outputs": [],
   "source": [
    "# create a directed random graph on X nodes and Y edges\n",
    "g_er_random = snap.GenRndGnm(snap.PUNGraph, 5, 8)\n"
   ]
  },
  {
   "cell_type": "code",
   "execution_count": 68,
   "metadata": {},
   "outputs": [
    {
     "output_type": "stream",
     "name": "stdout",
     "text": "edge (0, 1)\nedge (0, 2)\nedge (0, 3)\nedge (0, 4)\nedge (1, 2)\nedge (2, 3)\nedge (2, 4)\nedge (3, 4)\n"
    }
   ],
   "source": [
    "# traverse the edges\n",
    "for EI in g_er_random.Edges():\n",
    "    print(\"edge (%d, %d)\" % (EI.GetSrcNId(), EI.GetDstNId()))\n",
    "\n",
    "snap.SaveEdgeList(g_er_random, \"test_er_random.txt\", \"Save as tab-separated list of edges\")"
   ]
  },
  {
   "cell_type": "code",
   "execution_count": 27,
   "metadata": {},
   "outputs": [
    {
     "output_type": "stream",
     "name": "stdout",
     "text": "The graph has 5 nodes, 8 edges.\n"
    },
    {
     "output_type": "execute_result",
     "data": {
      "image/png": "[encoded data removed]",
      "text/plain": "<IPython.core.display.Image object>"
     },
     "metadata": {},
     "execution_count": 27
    }
   ],
   "source": [
    "show_g(g_er_random, \"er_random\")"
   ]
  },
  {
   "cell_type": "code",
   "execution_count": 117,
   "metadata": {},
   "outputs": [],
   "source": [
    "## https://snap.stanford.edu/snappy/doc/reference/GenSmallWorld.html?highlight=smallworld#GenSmallWorld\n",
    "Rnd = snap.TRnd(1,0)\n",
    "g_sw_random = snap.GenSmallWorld(7, 1, 0, Rnd)"
   ]
  },
  {
   "cell_type": "code",
   "execution_count": 118,
   "metadata": {},
   "outputs": [
    {
     "output_type": "stream",
     "name": "stdout",
     "text": "The graph has 7 nodes, 7 edges.\n"
    },
    {
     "output_type": "execute_result",
     "data": {
      "image/png": "[encoded data removed]",
      "text/plain": "<IPython.core.display.Image object>"
     },
     "metadata": {},
     "execution_count": 118
    }
   ],
   "source": [
    "show_g(g_sw_random, \"sw_random\")"
   ]
  },
  {
   "cell_type": "code",
   "execution_count": 69,
   "metadata": {},
   "outputs": [
    {
     "output_type": "stream",
     "name": "stdout",
     "text": "[3 1]\n[0 1] 0 1\n"
    }
   ],
   "source": [
    "import numpy as np\n",
    "random_pair = np.random.randint(low=0, high=5, size=2)\n",
    "print(random_pair)\n",
    "\n",
    "import numpy as np\n",
    "## https://docs.scipy.org/doc/numpy-1.15.0/reference/generated/numpy.random.choice.html\n",
    "random_pair = np.random.choice(6, 2,replace=False) \n",
    "print(random_pair, random_pair[0], random_pair[1])"
   ]
  },
  {
   "cell_type": "code",
   "execution_count": 115,
   "metadata": {},
   "outputs": [],
   "source": [
    "import numpy as np\n",
    "\n",
    "def return_random_edge_pair_set(num_of_node, num_of_rand_edge_pair):\n",
    "    count = 0\n",
    "    edge_pair_set = set()\n",
    "    random_edge_pair_set = set()\n",
    "\n",
    "    for i in range(num_of_node):\n",
    "        # print(i)\n",
    "        edge_pair_set.add((i, (i+1)%num_of_node))\n",
    "        edge_pair_set.add((i, (i+2)%num_of_node))\n",
    "    # print(edge_pair_set)\n",
    "    edge_pair_set.add((0, num_of_node-2))\n",
    "    edge_pair_set.add((1, num_of_node-1))\n",
    "\n",
    "    while count < num_of_rand_edge_pair:\n",
    "        ## add these last two edge pairs\n",
    "\n",
    "        rand_pair = np.random.choice(num_of_node, 2,replace=False) \n",
    "        # print(rand_pair)\n",
    "        if (rand_pair[0] < rand_pair[1])\\\n",
    "        and (rand_pair[0], rand_pair[1]) not in edge_pair_set:\n",
    "            edge_pair_set.add((rand_pair[0], rand_pair[1]))\n",
    "            random_edge_pair_set.add((rand_pair[0], rand_pair[1]))\n",
    "            count += 1\n",
    "            # print(count)\n",
    "    return random_edge_pair_set\n",
    "\n"
   ]
  },
  {
   "cell_type": "code",
   "execution_count": 116,
   "metadata": {},
   "outputs": [
    {
     "output_type": "execute_result",
     "data": {
      "text/plain": "{(0, 6), (1, 5)}"
     },
     "metadata": {},
     "execution_count": 116
    }
   ],
   "source": [
    "return_random_edge_pair_set(7, 2)"
   ]
  },
  {
   "cell_type": "code",
   "execution_count": null,
   "metadata": {},
   "outputs": [],
   "source": [
    "g_sw_random.AddEdge(1,3)\n",
    "g_sw_random.AddEdge(3,1)\n",
    "show_g(g_sw_random, \"sw_random_mod\")"
   ]
  }
 ],
 "metadata": {
  "language_info": {
   "codemirror_mode": {
    "name": "ipython",
    "version": 3
   },
   "file_extension": ".py",
   "mimetype": "text/x-python",
   "name": "python",
   "nbconvert_exporter": "python",
   "pygments_lexer": "ipython3",
   "version": "3.7.7-final"
  },
  "orig_nbformat": 2,
  "kernelspec": {
   "name": "python3",
   "display_name": "Python 3"
  }
 },
 "nbformat": 4,
 "nbformat_minor": 2
}