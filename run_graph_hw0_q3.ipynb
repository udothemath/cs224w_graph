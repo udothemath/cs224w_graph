{
 "cells": [
  {
   "cell_type": "code",
   "execution_count": 1,
   "metadata": {},
   "outputs": [
    {
     "name": "stdout",
     "output_type": "stream",
     "text": [
      "Hello World\n"
     ]
    }
   ],
   "source": [
    "import sys\n",
    "import snap\n",
    "import itertools\n",
    "from IPython.display import Image, display\n",
    "\n",
    "print(\"Hello World\")"
   ]
  },
  {
   "cell_type": "code",
   "execution_count": 2,
   "metadata": {},
   "outputs": [
    {
     "name": "stdout",
     "output_type": "stream",
     "text": [
      "SUCCESS, your version of Snap.py is 5.0.0\n"
     ]
    }
   ],
   "source": [
    "status = False\n",
    "try:\n",
    "    import snap\n",
    "    version = snap.Version\n",
    "    i = snap.TInt(5)\n",
    "    if i == 5:\n",
    "        status = True\n",
    "except:\n",
    "    pass\n",
    "\n",
    "if status:\n",
    "    print(\"SUCCESS, your version of Snap.py is %s\" % (version))\n",
    "else:\n",
    "    print(\"*** ERROR, no working Snap.py was found on your computer\")\n"
   ]
  },
  {
   "cell_type": "markdown",
   "metadata": {},
   "source": [
    "## Read .txt"
   ]
  },
  {
   "cell_type": "code",
   "execution_count": 5,
   "metadata": {},
   "outputs": [],
   "source": [
    "FOLDER_NAME = \"./\"\n",
    "case_name = \"stackoverflow-Java\"\n",
    "case_txt = FOLDER_NAME + case_name+\".txt\"\n",
    "case_png = FOLDER_NAME + case_name+\".png\"\n",
    "G5 = snap.LoadEdgeList(snap.PNGraph, case_txt, 0, 1)"
   ]
  },
  {
   "cell_type": "code",
   "execution_count": 6,
   "metadata": {},
   "outputs": [],
   "source": [
    "def get_nodes_and_edges(my_graph):\n",
    "    n_nodes = my_graph.GetNodes()\n",
    "    n_edges = my_graph.GetEdges()\n",
    "    print(f\"The graph has {n_nodes:,d} nodes; {n_edges:,d} edges\")"
   ]
  },
  {
   "cell_type": "code",
   "execution_count": 7,
   "metadata": {},
   "outputs": [
    {
     "name": "stdout",
     "output_type": "stream",
     "text": [
      "The graph has 146,874 nodes; 333,606 edges\n"
     ]
    }
   ],
   "source": [
    "get_nodes_and_edges(G5)"
   ]
  },
  {
   "cell_type": "markdown",
   "metadata": {},
   "source": [
    "## Weakly connected component"
   ]
  },
  {
   "cell_type": "markdown",
   "metadata": {},
   "source": [
    "### Q1"
   ]
  },
  {
   "cell_type": "code",
   "execution_count": 8,
   "metadata": {},
   "outputs": [
    {
     "name": "stdout",
     "output_type": "stream",
     "text": [
      "Weakly connected components: 10,143\n"
     ]
    }
   ],
   "source": [
    "## TCnComV, a vector of connected components;\n",
    "wcc = snap.TCnComV()\n",
    "snap.GetWccs(G5, wcc)\n",
    "print(f\"Weakly connected components: {len(list(wcc)):,d}\")"
   ]
  },
  {
   "cell_type": "markdown",
   "metadata": {},
   "source": [
    "### (optional) Q1"
   ]
  },
  {
   "cell_type": "code",
   "execution_count": 9,
   "metadata": {},
   "outputs": [
    {
     "name": "stdout",
     "output_type": "stream",
     "text": [
      "Size of component: 131188\n",
      "Size of component: 7\n",
      "Size of component: 7\n",
      "Size of component: 6\n",
      "Size of component: 6\n"
     ]
    }
   ],
   "source": [
    "for CnCom in list(wcc)[:5]:\n",
    "    print(\"Size of component: %d\" % CnCom.Len())"
   ]
  },
  {
   "cell_type": "code",
   "execution_count": 10,
   "metadata": {},
   "outputs": [
    {
     "name": "stdout",
     "output_type": "stream",
     "text": [
      "Size: 1 - Number of Components: 5191\n",
      "Size: 2 - Number of Components: 4462\n",
      "Size: 3 - Number of Components: 406\n",
      "Size: 4 - Number of Components: 68\n",
      "Size: 5 - Number of Components: 11\n",
      "Size: 6 - Number of Components: 2\n",
      "Size: 7 - Number of Components: 2\n",
      "Size: 131188 - Number of Components: 1\n"
     ]
    }
   ],
   "source": [
    "ComponentDist = snap.TIntPrV()\n",
    "snap.GetWccSzCnt(G5, ComponentDist)\n",
    "for comp in ComponentDist:\n",
    "    print(\"Size: %d - Number of Components: %d\" % (comp.GetVal1(), comp.GetVal2()))"
   ]
  },
  {
   "cell_type": "code",
   "execution_count": 11,
   "metadata": {},
   "outputs": [
    {
     "name": "stdout",
     "output_type": "stream",
     "text": [
      "Size of component: 7\n",
      "[962953, 1249994, 1630096, 1952282, 2261111, 3101517, 3324935]\n"
     ]
    }
   ],
   "source": [
    "node_id = []\n",
    "\n",
    "for CnCom in list(wcc)[1:2]:\n",
    "    print(\"Size of component: %d\" % CnCom.Len())\n",
    "    for NI in CnCom:\n",
    "        node_id.append(NI)\n",
    "\n",
    "print(node_id)"
   ]
  },
  {
   "cell_type": "code",
   "execution_count": 12,
   "metadata": {},
   "outputs": [],
   "source": [
    "def func_in_out_degree(my_graph, node_id):\n",
    "    InDegV = snap.TIntPrV()\n",
    "    snap.GetNodeInDegV(my_graph, InDegV)\n",
    "\n",
    "    OutDegV = snap.TIntPrV()\n",
    "    snap.GetNodeOutDegV(my_graph, OutDegV)\n",
    "\n",
    "    print(\"--- In Degree ---\")\n",
    "    for item in InDegV:\n",
    "        if item.GetVal1() in node_id:\n",
    "            print(\"node ID %d: in-degree %d\" % (item.GetVal1(), item.GetVal2()))\n",
    "\n",
    "    print(\"--- Out Degree ---\")\n",
    "    for item in OutDegV:\n",
    "        if item.GetVal1() in node_id:\n",
    "            print(\"node ID %d: out-degree %d\" % (item.GetVal1(), item.GetVal2()))"
   ]
  },
  {
   "cell_type": "code",
   "execution_count": 13,
   "metadata": {},
   "outputs": [
    {
     "name": "stdout",
     "output_type": "stream",
     "text": [
      "--- In Degree ---\n",
      "node ID 962953: in-degree 0\n",
      "node ID 1630096: in-degree 3\n",
      "node ID 3101517: in-degree 0\n",
      "node ID 1952282: in-degree 0\n",
      "node ID 3324935: in-degree 0\n",
      "node ID 1249994: in-degree 2\n",
      "node ID 2261111: in-degree 1\n",
      "--- Out Degree ---\n",
      "node ID 962953: out-degree 3\n",
      "node ID 1630096: out-degree 0\n",
      "node ID 3101517: out-degree 1\n",
      "node ID 1952282: out-degree 1\n",
      "node ID 3324935: out-degree 1\n",
      "node ID 1249994: out-degree 0\n",
      "node ID 2261111: out-degree 0\n"
     ]
    }
   ],
   "source": [
    "func_in_out_degree(G5, node_id)"
   ]
  },
  {
   "cell_type": "code",
   "execution_count": 17,
   "metadata": {},
   "outputs": [],
   "source": [
    "def get_subgraph(my_large_graph, node_id):\n",
    "    NIdV = snap.TIntV()\n",
    "    for i in node_id:\n",
    "        NIdV.Add(i)\n",
    "\n",
    "    SubGraph = snap.GetSubGraph(my_large_graph, NIdV)\n",
    "    for EI in SubGraph.Edges():\n",
    "        print(\"edge (%d %d)\" % (EI.GetSrcNId(), EI.GetDstNId()))\n",
    "    return SubGraph"
   ]
  },
  {
   "cell_type": "code",
   "execution_count": 18,
   "metadata": {},
   "outputs": [
    {
     "name": "stdout",
     "output_type": "stream",
     "text": [
      "edge (962953 1249994)\n",
      "edge (962953 1630096)\n",
      "edge (962953 2261111)\n",
      "edge (1952282 1630096)\n",
      "edge (3101517 1630096)\n",
      "edge (3324935 1249994)\n"
     ]
    }
   ],
   "source": [
    "sub_graph = get_subgraph(G5, node_id)"
   ]
  },
  {
   "cell_type": "code",
   "execution_count": 19,
   "metadata": {},
   "outputs": [
    {
     "data": {
      "image/png": "[encoded data removed]",
      "text/plain": [
       "<IPython.core.display.Image object>"
      ]
     },
     "execution_count": 19,
     "metadata": {},
     "output_type": "execute_result"
    }
   ],
   "source": [
    "case_name = \"SubGraph\"\n",
    "case_txt = case_name+\".txt\"\n",
    "case_png = case_name+\".png\"\n",
    "\n",
    "snap.DrawGViz(sub_graph, snap.gvlDot, case_png, case_name)\n",
    "Image(case_png)"
   ]
  },
  {
   "cell_type": "markdown",
   "metadata": {},
   "source": [
    "### Q2"
   ]
  },
  {
   "cell_type": "code",
   "execution_count": 20,
   "metadata": {},
   "outputs": [
    {
     "name": "stdout",
     "output_type": "stream",
     "text": [
      "Size: 131188 - Number of Components: 1\n"
     ]
    }
   ],
   "source": [
    "## get largest weakly connected component of G\n",
    "wccLargestG = snap.GetMxWcc(G5)\n",
    "\n",
    "# Define a vector of pairs of integers (size, count) and \n",
    "# get a distribution of connected components (component size, count):\n",
    "\n",
    "ComponentDist = snap.TIntPrV()\n",
    "snap.GetWccSzCnt(wccLargestG, ComponentDist)\n",
    "for comp in ComponentDist:\n",
    "    print(\"Size: %d - Number of Components: %d\" % (comp.GetVal1(), comp.GetVal2()))"
   ]
  },
  {
   "cell_type": "code",
   "execution_count": 21,
   "metadata": {},
   "outputs": [
    {
     "name": "stdout",
     "output_type": "stream",
     "text": [
      "The graph has 131,188 nodes; 322,486 edges\n"
     ]
    }
   ],
   "source": [
    "get_nodes_and_edges(wccLargestG)"
   ]
  },
  {
   "cell_type": "markdown",
   "metadata": {},
   "source": [
    "## Q3"
   ]
  },
  {
   "cell_type": "code",
   "execution_count": 22,
   "metadata": {},
   "outputs": [],
   "source": [
    "PRankH = snap.TIntFltH()\n",
    "snap.GetPageRank(G5, PRankH)"
   ]
  },
  {
   "cell_type": "code",
   "execution_count": 23,
   "metadata": {},
   "outputs": [
    {
     "name": "stdout",
     "output_type": "stream",
     "text": [
      "78 2.4082266411394174e-06\n",
      "86 1.0954090787330643e-05\n",
      "58 2.7410854878087346e-06\n",
      "35 1.8556239858111125e-05\n",
      "122 4.355801112478744e-05\n"
     ]
    }
   ],
   "source": [
    "N = 5\n",
    "top_N = itertools.islice(PRankH, N) # grab the first N elements\n",
    "\n",
    "for item in top_N:\n",
    "    print(item, PRankH[item])"
   ]
  },
  {
   "cell_type": "code",
   "execution_count": 24,
   "metadata": {},
   "outputs": [],
   "source": [
    "def func_get_top_N(input_hash_table, show_top_N):\n",
    "    id_value_tuple_list = []\n",
    "    for item in input_hash_table:\n",
    "        id_value_tuple_list.append((item, input_hash_table[item]))\n",
    "        \n",
    "    sorted_list = sorted(id_value_tuple_list, key=lambda x: x[1], reverse=True)    \n",
    "    return [i[0] for i in sorted_list[:show_top_N]]"
   ]
  },
  {
   "cell_type": "code",
   "execution_count": 25,
   "metadata": {},
   "outputs": [
    {
     "data": {
      "text/plain": [
       "[992484, 135152, 22656]"
      ]
     },
     "execution_count": 25,
     "metadata": {},
     "output_type": "execute_result"
    }
   ],
   "source": [
    "func_get_top_N(PRankH, 3)"
   ]
  },
  {
   "cell_type": "code",
   "execution_count": 26,
   "metadata": {},
   "outputs": [
    {
     "name": "stdout",
     "output_type": "stream",
     "text": [
      "--- In Degree ---\n",
      "node ID 22656: in-degree 3999\n",
      "node ID 135152: in-degree 17\n",
      "node ID 992484: in-degree 1940\n",
      "--- Out Degree ---\n",
      "node ID 22656: out-degree 0\n",
      "node ID 135152: out-degree 1\n",
      "node ID 992484: out-degree 1\n"
     ]
    }
   ],
   "source": [
    "func_in_out_degree(G5, func_get_top_N(PRankH, 3))"
   ]
  },
  {
   "cell_type": "markdown",
   "metadata": {},
   "source": [
    "### Q4"
   ]
  },
  {
   "cell_type": "code",
   "execution_count": 27,
   "metadata": {},
   "outputs": [],
   "source": [
    "## http://snap.stanford.edu/snappy/doc/reference/GetHits.html?highlight=gethits\n",
    "NIdHubH = snap.TIntFltH()\n",
    "NIdAuthH = snap.TIntFltH()\n",
    "snap.GetHits(G5, NIdHubH, NIdAuthH)"
   ]
  },
  {
   "cell_type": "code",
   "execution_count": 28,
   "metadata": {},
   "outputs": [
    {
     "name": "stdout",
     "output_type": "stream",
     "text": [
      "Hubs: [892029, 1194415, 359862]\n"
     ]
    }
   ],
   "source": [
    "hub_node_id = func_get_top_N(NIdHubH, 3)\n",
    "print(\"Hubs:\", hub_node_id)"
   ]
  },
  {
   "cell_type": "code",
   "execution_count": 29,
   "metadata": {},
   "outputs": [
    {
     "name": "stdout",
     "output_type": "stream",
     "text": [
      "Authorities: [22656, 157882, 571407]\n"
     ]
    }
   ],
   "source": [
    "authority_node_id = func_get_top_N(NIdAuthH, 3)\n",
    "print(\"Authorities:\", authority_node_id)"
   ]
  },
  {
   "cell_type": "markdown",
   "metadata": {},
   "source": [
    "### (optional) Q4"
   ]
  },
  {
   "cell_type": "code",
   "execution_count": 30,
   "metadata": {},
   "outputs": [
    {
     "name": "stdout",
     "output_type": "stream",
     "text": [
      "ID: 892029\n",
      "--- In Degree ---\n",
      "node ID 892029: in-degree 3\n",
      "--- Out Degree ---\n",
      "node ID 892029: out-degree 434\n",
      "ID: 1194415\n",
      "--- In Degree ---\n",
      "node ID 1194415: in-degree 5\n",
      "--- Out Degree ---\n",
      "node ID 1194415: out-degree 374\n",
      "ID: 359862\n",
      "--- In Degree ---\n",
      "node ID 359862: in-degree 6\n",
      "--- Out Degree ---\n",
      "node ID 359862: out-degree 193\n"
     ]
    }
   ],
   "source": [
    "for curr_id in hub_node_id:\n",
    "    print(\"ID:\", curr_id)\n",
    "    func_in_out_degree(G5, [curr_id])"
   ]
  },
  {
   "cell_type": "code",
   "execution_count": 31,
   "metadata": {},
   "outputs": [
    {
     "name": "stdout",
     "output_type": "stream",
     "text": [
      "ID: 22656\n",
      "--- In Degree ---\n",
      "node ID 22656: in-degree 3999\n",
      "--- Out Degree ---\n",
      "node ID 22656: out-degree 0\n",
      "ID: 157882\n",
      "--- In Degree ---\n",
      "node ID 157882: in-degree 2828\n",
      "--- Out Degree ---\n",
      "node ID 157882: out-degree 6\n",
      "ID: 571407\n",
      "--- In Degree ---\n",
      "node ID 571407: in-degree 2714\n",
      "--- Out Degree ---\n",
      "node ID 571407: out-degree 2\n"
     ]
    }
   ],
   "source": [
    "for curr_id in authority_node_id:\n",
    "    print(\"ID:\", curr_id)\n",
    "    func_in_out_degree(G5, [curr_id])"
   ]
  },
  {
   "cell_type": "markdown",
   "metadata": {},
   "source": [
    "### (optional) Plot"
   ]
  },
  {
   "cell_type": "code",
   "execution_count": 32,
   "metadata": {},
   "outputs": [],
   "source": [
    "# import time\n",
    "# t0 = time.time()\n",
    "# NIdV = snap.TIntV()\n",
    "# for i in range(1, 101):\n",
    "#     NIdV.Add(i)\n",
    "\n",
    "# demo_graph = snap.GenRndGnm(snap.PNGraph, 200, 1000)\n",
    "# demo_subgraph = snap.GetSubGraph(demo_graph, NIdV)\n",
    "\n",
    "# case_name = \"plot_subgraph\"\n",
    "# case_txt = case_name+\".txt\"\n",
    "# case_png = FOLDER_NAME + case_name+\".png\"\n",
    "\n",
    "# snap.DrawGViz(demo_subgraph, snap.gvlDot, case_png, case_name)\n",
    "# print(f\"Elapsed time: {time.time()-t0:.4f} second.\")\n",
    "# Image(case_png)\n",
    "\n",
    "## Elapsed time: 0.9056 second."
   ]
  },
  {
   "cell_type": "code",
   "execution_count": 33,
   "metadata": {},
   "outputs": [],
   "source": [
    "# t0 = time.time()\n",
    "# case_name = \"plot_graph\"\n",
    "# case_txt = case_name+\".txt\"\n",
    "# case_png = case_name+\".png\"\n",
    "\n",
    "# snap.DrawGViz(demo_graph, snap.gvlDot, case_png, case_name)\n",
    "# print(f\"Elapsed time: {time.time()-t0:.4f} second.\")\n",
    "# Image(case_png)\n",
    "\n",
    "## Elapsed time: 727.2719 second."
   ]
  },
  {
   "cell_type": "markdown",
   "metadata": {},
   "source": [
    "### (option) Modularity"
   ]
  },
  {
   "cell_type": "code",
   "execution_count": 89,
   "metadata": {},
   "outputs": [],
   "source": [
    "def convert_for_modularity(g_in, show_graph=False):\n",
    "    g_out = snap.ConvertGraph(snap.PUNGraph, g_in)\n",
    "    CmtyV = snap.TCnComV()\n",
    "    modularity = snap.CommunityCNM(g_out, CmtyV)\n",
    "    print(f\"The modularity is {modularity:.4f}\")\n",
    "    case_png = 'show_demo.png'\n",
    "    snap.DrawGViz(g_out, snap.gvlDot, case_png, 'demo')\n",
    "    display(Image(case_png))\n",
    "    "
   ]
  },
  {
   "cell_type": "code",
   "execution_count": 101,
   "metadata": {},
   "outputs": [
    {
     "name": "stdout",
     "output_type": "stream",
     "text": [
      "The modularity of the network is 0.2650\n"
     ]
    },
    {
     "data": {
      "image/png": "[encoded data removed]",
      "text/plain": [
       "<IPython.core.display.Image object>"
      ]
     },
     "metadata": {},
     "output_type": "display_data"
    }
   ],
   "source": [
    "my_graph = snap.GenRndGnm(snap.PNGraph, 10, 10)\n",
    "convert_for_modularity(my_graph, True)"
   ]
  },
  {
   "cell_type": "markdown",
   "metadata": {},
   "source": [
    "### (optional) Log-log Plot"
   ]
  },
  {
   "cell_type": "code",
   "execution_count": 123,
   "metadata": {},
   "outputs": [],
   "source": [
    "import matplotlib.pyplot as plt\n",
    "import pandas as pd\n",
    "import numpy as np\n",
    "import math\n",
    "\n",
    "def get_xy(graph_in):\n",
    "    # vector of pairs of integers (size, count)\n",
    "    CntV = snap.TIntPrV()\n",
    "    # get degree distribution pairs (degree, count)\n",
    "    snap.GetOutDegCnt(graph_in, CntV)\n",
    "\n",
    "    # for item in CntV:\n",
    "    #     if item.GetVal1() < 10:\n",
    "    #         print(f\"{item.GetVal2()} nodes with out-degree {item.GetVal1()}\")\n",
    "\n",
    "    ## Note:\n",
    "    ## pair (x, y):  \n",
    "    ## y is the number of nodes in the network \n",
    "    ## with out-degree equal to x.\n",
    "\n",
    "    pair_list = []\n",
    "    for item in CntV:\n",
    "        if item.GetVal1() > 0:\n",
    "    #     print(f\" {item.GetVal1():,.0f} out-degree: {item.GetVal2()} nodes\")\n",
    "            pair_list.append((item.GetVal1(), item.GetVal2()))\n",
    "    \n",
    "    x_data = [i[0] for i in pair_list]\n",
    "    y_data = [i[1] for i in pair_list]\n",
    "    return x_data, y_data\n",
    "\n",
    "def fit_xy(x_data, y_data):\n",
    "    log_x = [math.log(i, 10) for i in x_data]\n",
    "    log_y = [math.log(i, 10) for i in y_data]\n",
    "    slope, intercept = np.polyfit(log_x, log_y, 1)\n",
    "    fitted_y = [math.pow(i, slope)* math.pow(10, intercept) for i in x_data]\n",
    "    return x_data, fitted_y\n"
   ]
  },
  {
   "cell_type": "markdown",
   "metadata": {},
   "source": [
    "### Stackoverflow"
   ]
  },
  {
   "cell_type": "code",
   "execution_count": 125,
   "metadata": {},
   "outputs": [
    {
     "data": {
      "image/png": "[encoded data removed]",
      "text/plain": [
       "<Figure size 576x432 with 1 Axes>"
      ]
     },
     "metadata": {
      "needs_background": "light"
     },
     "output_type": "display_data"
    }
   ],
   "source": [
    "x_, y_ = get_xy(G5)\n",
    "_, y_fitted_ = fit_xy(x_, y_)\n",
    "\n",
    "plt.figure(figsize= [8, 6])\n",
    "plt.loglog(x_, y_)\n",
    "plt.loglog(x_, y_fitted_)\n",
    "plt.show()"
   ]
  },
  {
   "cell_type": "markdown",
   "metadata": {},
   "source": [
    "### wiki-vote"
   ]
  },
  {
   "cell_type": "code",
   "execution_count": 126,
   "metadata": {},
   "outputs": [
    {
     "data": {
      "image/png": "[encoded data removed]",
      "text/plain": [
       "<Figure size 576x432 with 1 Axes>"
      ]
     },
     "metadata": {
      "needs_background": "light"
     },
     "output_type": "display_data"
    }
   ],
   "source": [
    "case_name = \"wiki-Vote\"\n",
    "case_txt = case_name+\".txt\"\n",
    "g_hw0_q2 = snap.LoadEdgeList(snap.PNGraph, case_txt, 0, 1)\n",
    "\n",
    "x_, y_ = get_xy(g_hw0_q2)\n",
    "_, y_fitted_ = fit_xy(x_, y_)\n",
    "\n",
    "plt.figure(figsize= [8, 6])\n",
    "plt.loglog(x_, y_)\n",
    "plt.loglog(x_, y_fitted_)\n",
    "plt.show()"
   ]
  },
  {
   "cell_type": "code",
   "execution_count": null,
   "metadata": {},
   "outputs": [],
   "source": []
  }
 ],
 "metadata": {
  "kernelspec": {
   "display_name": "Python 3",
   "language": "python",
   "name": "python3"
  },
  "language_info": {
   "codemirror_mode": {
    "name": "ipython",
    "version": 3
   },
   "file_extension": ".py",
   "mimetype": "text/x-python",
   "name": "python",
   "nbconvert_exporter": "python",
   "pygments_lexer": "ipython3",
   "version": "3.7.7"
  },
  "toc": {
   "base_numbering": 1,
   "nav_menu": {},
   "number_sections": true,
   "sideBar": true,
   "skip_h1_title": false,
   "title_cell": "Table of Contents",
   "title_sidebar": "Contents",
   "toc_cell": false,
   "toc_position": {},
   "toc_section_display": true,
   "toc_window_display": false
  }
 },
 "nbformat": 4,
 "nbformat_minor": 4
}
