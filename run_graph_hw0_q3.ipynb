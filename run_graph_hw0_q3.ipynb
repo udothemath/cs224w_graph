{
 "cells": [
  {
   "cell_type": "code",
   "execution_count": 1,
   "metadata": {},
   "outputs": [
    {
     "name": "stdout",
     "output_type": "stream",
     "text": [
      "Hello World\n"
     ]
    }
   ],
   "source": [
    "import sys\n",
    "import snap\n",
    "import itertools\n",
    "from IPython.display import Image, display\n",
    "\n",
    "print(\"Hello World\")"
   ]
  },
  {
   "cell_type": "code",
   "execution_count": 2,
   "metadata": {},
   "outputs": [
    {
     "name": "stdout",
     "output_type": "stream",
     "text": [
      "SUCCESS, your version of Snap.py is 5.0.0\n"
     ]
    }
   ],
   "source": [
    "status = False\n",
    "try:\n",
    "    import snap\n",
    "    version = snap.Version\n",
    "    i = snap.TInt(5)\n",
    "    if i == 5:\n",
    "        status = True\n",
    "except:\n",
    "    pass\n",
    "\n",
    "if status:\n",
    "    print(\"SUCCESS, your version of Snap.py is %s\" % (version))\n",
    "else:\n",
    "    print(\"*** ERROR, no working Snap.py was found on your computer\")\n"
   ]
  },
  {
   "cell_type": "markdown",
   "metadata": {},
   "source": [
    "## Read .txt"
   ]
  },
  {
   "cell_type": "code",
   "execution_count": 3,
   "metadata": {},
   "outputs": [],
   "source": [
    "FOLDER_NAME = \"./\"\n",
    "case_name = \"stackoverflow-Java\"\n",
    "case_txt = FOLDER_NAME + case_name+\".txt\"\n",
    "case_png = FOLDER_NAME + case_name+\".png\"\n",
    "G5 = snap.LoadEdgeList(snap.PNGraph, case_txt, 0, 1)"
   ]
  },
  {
   "cell_type": "code",
   "execution_count": 4,
   "metadata": {},
   "outputs": [],
   "source": [
    "def get_nodes_and_edges(my_graph):\n",
    "    n_nodes = my_graph.GetNodes()\n",
    "    n_edges = my_graph.GetEdges()\n",
    "    print(f\"The graph has {n_nodes:,d} nodes; {n_edges:,d} edges\")"
   ]
  },
  {
   "cell_type": "code",
   "execution_count": 5,
   "metadata": {},
   "outputs": [
    {
     "name": "stdout",
     "output_type": "stream",
     "text": [
      "The graph has 146,874 nodes; 333,606 edges\n"
     ]
    }
   ],
   "source": [
    "get_nodes_and_edges(G5)"
   ]
  },
  {
   "cell_type": "markdown",
   "metadata": {},
   "source": [
    "## Weakly connected component"
   ]
  },
  {
   "cell_type": "markdown",
   "metadata": {},
   "source": [
    "### Q1"
   ]
  },
  {
   "cell_type": "code",
   "execution_count": 6,
   "metadata": {},
   "outputs": [
    {
     "name": "stdout",
     "output_type": "stream",
     "text": [
      "Weakly connected components: 10,143\n"
     ]
    }
   ],
   "source": [
    "## TCnComV, a vector of connected components;\n",
    "wcc = snap.TCnComV()\n",
    "snap.GetWccs(G5, wcc)\n",
    "print(f\"Weakly connected components: {len(list(wcc)):,d}\")"
   ]
  },
  {
   "cell_type": "markdown",
   "metadata": {},
   "source": [
    "### (optional) Q1"
   ]
  },
  {
   "cell_type": "code",
   "execution_count": 7,
   "metadata": {},
   "outputs": [
    {
     "name": "stdout",
     "output_type": "stream",
     "text": [
      "Size of component: 131188\n",
      "Size of component: 7\n",
      "Size of component: 7\n",
      "Size of component: 6\n",
      "Size of component: 6\n"
     ]
    }
   ],
   "source": [
    "for CnCom in list(wcc)[:5]:\n",
    "    print(\"Size of component: %d\" % CnCom.Len())"
   ]
  },
  {
   "cell_type": "code",
   "execution_count": 8,
   "metadata": {},
   "outputs": [
    {
     "name": "stdout",
     "output_type": "stream",
     "text": [
      "Size: 1 - Number of Components: 5191\n",
      "Size: 2 - Number of Components: 4462\n",
      "Size: 3 - Number of Components: 406\n",
      "Size: 4 - Number of Components: 68\n",
      "Size: 5 - Number of Components: 11\n",
      "Size: 6 - Number of Components: 2\n",
      "Size: 7 - Number of Components: 2\n",
      "Size: 131188 - Number of Components: 1\n"
     ]
    }
   ],
   "source": [
    "ComponentDist = snap.TIntPrV()\n",
    "snap.GetWccSzCnt(G5, ComponentDist)\n",
    "for comp in ComponentDist:\n",
    "    print(\"Size: %d - Number of Components: %d\" % (comp.GetVal1(), comp.GetVal2()))"
   ]
  },
  {
   "cell_type": "code",
   "execution_count": 9,
   "metadata": {},
   "outputs": [
    {
     "name": "stdout",
     "output_type": "stream",
     "text": [
      "Size of component: 7\n",
      "[962953, 1249994, 1630096, 1952282, 2261111, 3101517, 3324935]\n"
     ]
    }
   ],
   "source": [
    "node_id = []\n",
    "\n",
    "for CnCom in list(wcc)[1:2]:\n",
    "    print(\"Size of component: %d\" % CnCom.Len())\n",
    "    for NI in CnCom:\n",
    "        node_id.append(NI)\n",
    "\n",
    "print(node_id)"
   ]
  },
  {
   "cell_type": "code",
   "execution_count": 10,
   "metadata": {},
   "outputs": [],
   "source": [
    "def func_in_out_degree(my_graph, node_id):\n",
    "    InDegV = snap.TIntPrV()\n",
    "    snap.GetNodeInDegV(my_graph, InDegV)\n",
    "\n",
    "    OutDegV = snap.TIntPrV()\n",
    "    snap.GetNodeOutDegV(my_graph, OutDegV)\n",
    "\n",
    "    print(\"--- In Degree ---\")\n",
    "    for item in InDegV:\n",
    "        if item.GetVal1() in node_id:\n",
    "            print(\"node ID %d: in-degree %d\" % (item.GetVal1(), item.GetVal2()))\n",
    "\n",
    "    print(\"--- Out Degree ---\")\n",
    "    for item in OutDegV:\n",
    "        if item.GetVal1() in node_id:\n",
    "            print(\"node ID %d: out-degree %d\" % (item.GetVal1(), item.GetVal2()))"
   ]
  },
  {
   "cell_type": "code",
   "execution_count": 11,
   "metadata": {},
   "outputs": [
    {
     "name": "stdout",
     "output_type": "stream",
     "text": [
      "--- In Degree ---\n",
      "node ID 962953: in-degree 0\n",
      "node ID 1630096: in-degree 3\n",
      "node ID 3101517: in-degree 0\n",
      "node ID 1952282: in-degree 0\n",
      "node ID 3324935: in-degree 0\n",
      "node ID 1249994: in-degree 2\n",
      "node ID 2261111: in-degree 1\n",
      "--- Out Degree ---\n",
      "node ID 962953: out-degree 3\n",
      "node ID 1630096: out-degree 0\n",
      "node ID 3101517: out-degree 1\n",
      "node ID 1952282: out-degree 1\n",
      "node ID 3324935: out-degree 1\n",
      "node ID 1249994: out-degree 0\n",
      "node ID 2261111: out-degree 0\n"
     ]
    }
   ],
   "source": [
    "func_in_out_degree(G5, node_id)"
   ]
  },
  {
   "cell_type": "code",
   "execution_count": 12,
   "metadata": {},
   "outputs": [],
   "source": [
    "def get_subgraph(my_large_graph, node_id):\n",
    "    NIdV = snap.TIntV()\n",
    "    for i in node_id:\n",
    "        NIdV.Add(i)\n",
    "\n",
    "    SubGraph = snap.GetSubGraph(my_large_graph, NIdV)\n",
    "    for EI in SubGraph.Edges():\n",
    "        print(\"edge (%d %d)\" % (EI.GetSrcNId(), EI.GetDstNId()))\n",
    "    return SubGraph"
   ]
  },
  {
   "cell_type": "code",
   "execution_count": 13,
   "metadata": {},
   "outputs": [
    {
     "name": "stdout",
     "output_type": "stream",
     "text": [
      "edge (962953 1249994)\n",
      "edge (962953 1630096)\n",
      "edge (962953 2261111)\n",
      "edge (1952282 1630096)\n",
      "edge (3101517 1630096)\n",
      "edge (3324935 1249994)\n"
     ]
    }
   ],
   "source": [
    "sub_graph = get_subgraph(G5, node_id)"
   ]
  },
  {
   "cell_type": "code",
   "execution_count": 14,
   "metadata": {},
   "outputs": [
    {
     "data": {
      "image/png": "[encoded data removed]",
      "text/plain": [
       "<IPython.core.display.Image object>"
      ]
     },
     "execution_count": 14,
     "metadata": {},
     "output_type": "execute_result"
    }
   ],
   "source": [
    "case_name = \"SubGraph\"\n",
    "case_txt = case_name+\".txt\"\n",
    "case_png = case_name+\".png\"\n",
    "\n",
    "snap.DrawGViz(sub_graph, snap.gvlDot, case_png, case_name)\n",
    "Image(case_png)"
   ]
  },
  {
   "cell_type": "markdown",
   "metadata": {},
   "source": [
    "### Q2"
   ]
  },
  {
   "cell_type": "code",
   "execution_count": 15,
   "metadata": {},
   "outputs": [
    {
     "name": "stdout",
     "output_type": "stream",
     "text": [
      "Size: 131188 - Number of Components: 1\n"
     ]
    }
   ],
   "source": [
    "## get largest weakly connected component of G\n",
    "wccLargestG = snap.GetMxWcc(G5)\n",
    "\n",
    "# Define a vector of pairs of integers (size, count) and \n",
    "# get a distribution of connected components (component size, count):\n",
    "\n",
    "ComponentDist = snap.TIntPrV()\n",
    "snap.GetWccSzCnt(wccLargestG, ComponentDist)\n",
    "for comp in ComponentDist:\n",
    "    print(\"Size: %d - Number of Components: %d\" % (comp.GetVal1(), comp.GetVal2()))"
   ]
  },
  {
   "cell_type": "code",
   "execution_count": 16,
   "metadata": {},
   "outputs": [
    {
     "name": "stdout",
     "output_type": "stream",
     "text": [
      "The graph has 131,188 nodes; 322,486 edges\n"
     ]
    }
   ],
   "source": [
    "get_nodes_and_edges(wccLargestG)"
   ]
  },
  {
   "cell_type": "markdown",
   "metadata": {},
   "source": [
    "## Q3"
   ]
  },
  {
   "cell_type": "code",
   "execution_count": 17,
   "metadata": {},
   "outputs": [],
   "source": [
    "PRankH = snap.TIntFltH()\n",
    "snap.GetPageRank(G5, PRankH)"
   ]
  },
  {
   "cell_type": "code",
   "execution_count": 18,
   "metadata": {},
   "outputs": [
    {
     "name": "stdout",
     "output_type": "stream",
     "text": [
      "78 2.4082266411394174e-06\n",
      "86 1.0954090787330643e-05\n",
      "58 2.7410854878087346e-06\n",
      "35 1.8556239858111125e-05\n",
      "122 4.355801112478744e-05\n"
     ]
    }
   ],
   "source": [
    "N = 5\n",
    "top_N = itertools.islice(PRankH, N) # grab the first N elements\n",
    "\n",
    "for item in top_N:\n",
    "    print(item, PRankH[item])"
   ]
  },
  {
   "cell_type": "code",
   "execution_count": 19,
   "metadata": {},
   "outputs": [],
   "source": [
    "def func_get_top_N(input_hash_table, show_top_N):\n",
    "    id_value_tuple_list = []\n",
    "    for item in input_hash_table:\n",
    "        id_value_tuple_list.append((item, input_hash_table[item]))\n",
    "        \n",
    "    sorted_list = sorted(id_value_tuple_list, key=lambda x: x[1], reverse=True)    \n",
    "    return [i[0] for i in sorted_list[:show_top_N]]"
   ]
  },
  {
   "cell_type": "code",
   "execution_count": 20,
   "metadata": {},
   "outputs": [
    {
     "data": {
      "text/plain": [
       "[992484, 135152, 22656]"
      ]
     },
     "execution_count": 20,
     "metadata": {},
     "output_type": "execute_result"
    }
   ],
   "source": [
    "func_get_top_N(PRankH, 3)"
   ]
  },
  {
   "cell_type": "code",
   "execution_count": 21,
   "metadata": {},
   "outputs": [
    {
     "name": "stdout",
     "output_type": "stream",
     "text": [
      "--- In Degree ---\n",
      "node ID 22656: in-degree 3999\n",
      "node ID 135152: in-degree 17\n",
      "node ID 992484: in-degree 1940\n",
      "--- Out Degree ---\n",
      "node ID 22656: out-degree 0\n",
      "node ID 135152: out-degree 1\n",
      "node ID 992484: out-degree 1\n"
     ]
    }
   ],
   "source": [
    "func_in_out_degree(G5, func_get_top_N(PRankH, 3))"
   ]
  },
  {
   "cell_type": "markdown",
   "metadata": {},
   "source": [
    "### Q4"
   ]
  },
  {
   "cell_type": "code",
   "execution_count": 22,
   "metadata": {},
   "outputs": [],
   "source": [
    "## http://snap.stanford.edu/snappy/doc/reference/GetHits.html?highlight=gethits\n",
    "NIdHubH = snap.TIntFltH()\n",
    "NIdAuthH = snap.TIntFltH()\n",
    "snap.GetHits(G5, NIdHubH, NIdAuthH)"
   ]
  },
  {
   "cell_type": "code",
   "execution_count": 23,
   "metadata": {},
   "outputs": [
    {
     "name": "stdout",
     "output_type": "stream",
     "text": [
      "Hubs: [892029, 1194415, 359862]\n"
     ]
    }
   ],
   "source": [
    "hub_node_id = func_get_top_N(NIdHubH, 3)\n",
    "print(\"Hubs:\", hub_node_id)"
   ]
  },
  {
   "cell_type": "code",
   "execution_count": 24,
   "metadata": {},
   "outputs": [
    {
     "name": "stdout",
     "output_type": "stream",
     "text": [
      "Authorities: [22656, 157882, 571407]\n"
     ]
    }
   ],
   "source": [
    "authority_node_id = func_get_top_N(NIdAuthH, 3)\n",
    "print(\"Authorities:\", authority_node_id)"
   ]
  },
  {
   "cell_type": "markdown",
   "metadata": {},
   "source": [
    "### (optional) Q4"
   ]
  },
  {
   "cell_type": "code",
   "execution_count": 25,
   "metadata": {},
   "outputs": [
    {
     "name": "stdout",
     "output_type": "stream",
     "text": [
      "ID: 892029\n",
      "--- In Degree ---\n",
      "node ID 892029: in-degree 3\n",
      "--- Out Degree ---\n",
      "node ID 892029: out-degree 434\n",
      "ID: 1194415\n",
      "--- In Degree ---\n",
      "node ID 1194415: in-degree 5\n",
      "--- Out Degree ---\n",
      "node ID 1194415: out-degree 374\n",
      "ID: 359862\n",
      "--- In Degree ---\n",
      "node ID 359862: in-degree 6\n",
      "--- Out Degree ---\n",
      "node ID 359862: out-degree 193\n"
     ]
    }
   ],
   "source": [
    "for curr_id in hub_node_id:\n",
    "    print(\"ID:\", curr_id)\n",
    "    func_in_out_degree(G5, [curr_id])"
   ]
  },
  {
   "cell_type": "code",
   "execution_count": 26,
   "metadata": {},
   "outputs": [
    {
     "name": "stdout",
     "output_type": "stream",
     "text": [
      "ID: 22656\n",
      "--- In Degree ---\n",
      "node ID 22656: in-degree 3999\n",
      "--- Out Degree ---\n",
      "node ID 22656: out-degree 0\n",
      "ID: 157882\n",
      "--- In Degree ---\n",
      "node ID 157882: in-degree 2828\n",
      "--- Out Degree ---\n",
      "node ID 157882: out-degree 6\n",
      "ID: 571407\n",
      "--- In Degree ---\n",
      "node ID 571407: in-degree 2714\n",
      "--- Out Degree ---\n",
      "node ID 571407: out-degree 2\n"
     ]
    }
   ],
   "source": [
    "for curr_id in authority_node_id:\n",
    "    print(\"ID:\", curr_id)\n",
    "    func_in_out_degree(G5, [curr_id])"
   ]
  },
  {
   "cell_type": "markdown",
   "metadata": {},
   "source": [
    "### (optional) Plot"
   ]
  },
  {
   "cell_type": "code",
   "execution_count": 27,
   "metadata": {},
   "outputs": [],
   "source": [
    "# import time\n",
    "# t0 = time.time()\n",
    "# NIdV = snap.TIntV()\n",
    "# for i in range(1, 101):\n",
    "#     NIdV.Add(i)\n",
    "\n",
    "# demo_graph = snap.GenRndGnm(snap.PNGraph, 200, 1000)\n",
    "# demo_subgraph = snap.GetSubGraph(demo_graph, NIdV)\n",
    "\n",
    "# case_name = \"plot_subgraph\"\n",
    "# case_txt = case_name+\".txt\"\n",
    "# case_png = FOLDER_NAME + case_name+\".png\"\n",
    "\n",
    "# snap.DrawGViz(demo_subgraph, snap.gvlDot, case_png, case_name)\n",
    "# print(f\"Elapsed time: {time.time()-t0:.4f} second.\")\n",
    "# Image(case_png)\n",
    "\n",
    "## Elapsed time: 0.9056 second."
   ]
  },
  {
   "cell_type": "code",
   "execution_count": 28,
   "metadata": {},
   "outputs": [],
   "source": [
    "# t0 = time.time()\n",
    "# case_name = \"plot_graph\"\n",
    "# case_txt = case_name+\".txt\"\n",
    "# case_png = case_name+\".png\"\n",
    "\n",
    "# snap.DrawGViz(demo_graph, snap.gvlDot, case_png, case_name)\n",
    "# print(f\"Elapsed time: {time.time()-t0:.4f} second.\")\n",
    "# Image(case_png)\n",
    "\n",
    "## Elapsed time: 727.2719 second."
   ]
  },
  {
   "cell_type": "markdown",
   "metadata": {},
   "source": [
    "### (option) Modularity"
   ]
  },
  {
   "cell_type": "code",
   "execution_count": 29,
   "metadata": {},
   "outputs": [],
   "source": [
    "def convert_for_modularity(g_in, show_graph=False):\n",
    "    g_out = snap.ConvertGraph(snap.PUNGraph, g_in)\n",
    "    CmtyV = snap.TCnComV()\n",
    "    modularity = snap.CommunityCNM(g_out, CmtyV)\n",
    "    print(f\"The modularity is {modularity:.4f}\")\n",
    "    case_png = 'show_demo.png'\n",
    "    snap.DrawGViz(g_out, snap.gvlDot, case_png, 'demo')\n",
    "    display(Image(case_png))\n",
    "    "
   ]
  },
  {
   "cell_type": "code",
   "execution_count": 30,
   "metadata": {},
   "outputs": [
    {
     "name": "stdout",
     "output_type": "stream",
     "text": [
      "The modularity is 0.1667\n"
     ]
    },
    {
     "data": {
      "image/png": "[encoded data removed]",
      "text/plain": [
       "<IPython.core.display.Image object>"
      ]
     },
     "metadata": {},
     "output_type": "display_data"
    }
   ],
   "source": [
    "my_graph = snap.GenRndGnm(snap.PNGraph, 6, 10)\n",
    "convert_for_modularity(my_graph, True)"
   ]
  },
  {
   "cell_type": "markdown",
   "metadata": {},
   "source": [
    "### (optional) Log-log Plot"
   ]
  },
  {
   "cell_type": "code",
   "execution_count": 31,
   "metadata": {},
   "outputs": [],
   "source": [
    "import matplotlib.pyplot as plt\n",
    "import pandas as pd\n",
    "import numpy as np\n",
    "import math\n",
    "\n",
    "def get_xy(graph_in):\n",
    "    # vector of pairs of integers (size, count)\n",
    "    CntV = snap.TIntPrV()\n",
    "    # get degree distribution pairs (degree, count)\n",
    "    snap.GetOutDegCnt(graph_in, CntV)\n",
    "\n",
    "    # for item in CntV:\n",
    "    #     if item.GetVal1() < 10:\n",
    "    #         print(f\"{item.GetVal2()} nodes with out-degree {item.GetVal1()}\")\n",
    "\n",
    "    ## Note:\n",
    "    ## pair (x, y):  \n",
    "    ## y is the number of nodes in the network \n",
    "    ## with out-degree equal to x.\n",
    "\n",
    "    pair_list = []\n",
    "    for item in CntV:\n",
    "        if item.GetVal1() > 0:\n",
    "#             print(f\" {item.GetVal1():,.0f} out-degree: {item.GetVal2()} nodes\")\n",
    "            pair_list.append((item.GetVal1(), item.GetVal2()))\n",
    "    \n",
    "    x_data = [i[0] for i in pair_list]\n",
    "    y_data = [i[1] for i in pair_list]\n",
    "    return x_data, y_data\n",
    "\n",
    "def fit_xy(x_data, y_data):\n",
    "    log_x = [math.log(i, 10) for i in x_data]\n",
    "    log_y = [math.log(i, 10) for i in y_data]\n",
    "    slope, intercept = np.polyfit(log_x, log_y, 1)\n",
    "    fitted_y = [math.pow(i, slope)* math.pow(10, intercept) for i in x_data]\n",
    "    return x_data, fitted_y\n"
   ]
  },
  {
   "cell_type": "markdown",
   "metadata": {},
   "source": [
    "## Out degree plot\n",
    "> Each data point is a pair (x, y) where x is a positive integer and y is the number of nodes in the network with <span style=\"color:yellow\">**out-degree** </span> equal to x."
   ]
  },
  {
   "cell_type": "markdown",
   "metadata": {},
   "source": [
    "### Stackoverflow\n",
    "\n",
    "> An edge (a, b) in the network means that person a endorsed an answer from person b on a Java-related question."
   ]
  },
  {
   "cell_type": "code",
   "execution_count": 32,
   "metadata": {},
   "outputs": [
    {
     "data": {
      "image/png": "[encoded data removed]",
      "text/plain": [
       "<Figure size 576x432 with 1 Axes>"
      ]
     },
     "metadata": {
      "needs_background": "light"
     },
     "output_type": "display_data"
    }
   ],
   "source": [
    "x_, y_ = get_xy(G5)\n",
    "_, y_fitted_ = fit_xy(x_, y_)\n",
    "\n",
    "plt.figure(figsize= [8, 6])\n",
    "plt.loglog(x_, y_)\n",
    "plt.loglog(x_, y_fitted_)\n",
    "plt.show()"
   ]
  },
  {
   "cell_type": "markdown",
   "metadata": {},
   "source": [
    "### Wiki-vote\n",
    "> An edge (a, b) ∈ E means that user a voted on user b."
   ]
  },
  {
   "cell_type": "code",
   "execution_count": 33,
   "metadata": {},
   "outputs": [
    {
     "data": {
      "image/png": "[encoded data removed]",
      "text/plain": [
       "<Figure size 576x432 with 1 Axes>"
      ]
     },
     "metadata": {
      "needs_background": "light"
     },
     "output_type": "display_data"
    }
   ],
   "source": [
    "case_name = \"wiki-Vote\"\n",
    "case_txt = case_name+\".txt\"\n",
    "g_hw0_q2 = snap.LoadEdgeList(snap.PNGraph, case_txt, 0, 1)\n",
    "\n",
    "x_, y_ = get_xy(g_hw0_q2)\n",
    "_, y_fitted_ = fit_xy(x_, y_)\n",
    "\n",
    "plt.figure(figsize= [8, 6])\n",
    "plt.loglog(x_, y_)\n",
    "plt.loglog(x_, y_fitted_)\n",
    "plt.show()"
   ]
  },
  {
   "cell_type": "markdown",
   "metadata": {},
   "source": [
    "## In degree plot\n",
    "> Each data point is a pair (x, y) where x is a positive integer and y is the number of nodes in the network with <span style=\"color:orange\">**in-degree** </span> equal to x."
   ]
  },
  {
   "cell_type": "code",
   "execution_count": 34,
   "metadata": {},
   "outputs": [],
   "source": [
    "def get_xy_GetInDegCnt(graph_in, print_values=False):\n",
    "    # vector of pairs of integers (size, count)\n",
    "    CntV = snap.TIntPrV()\n",
    "    # get degree distribution pairs (degree, count)\n",
    "    snap.GetInDegCnt(graph_in, CntV)\n",
    "\n",
    "    ## Note:\n",
    "    ## pair (x, y):  \n",
    "    ## y is the number of nodes in the network \n",
    "    ## with out-degree equal to x.\n",
    "\n",
    "    pair_list = []\n",
    "    for item in CntV:\n",
    "        if item.GetVal1() > 0:\n",
    "            if print_values:\n",
    "                print(f\" {item.GetVal1():,.0f} in-degree: {item.GetVal2()} nodes\")\n",
    "            pair_list.append((item.GetVal1(), item.GetVal2()))\n",
    "    \n",
    "    x_data = [i[0] for i in pair_list]\n",
    "    y_data = [i[1] for i in pair_list]\n",
    "    return x_data, y_data"
   ]
  },
  {
   "cell_type": "markdown",
   "metadata": {},
   "source": [
    "### Stackoverflow"
   ]
  },
  {
   "cell_type": "code",
   "execution_count": 35,
   "metadata": {},
   "outputs": [
    {
     "data": {
      "image/png": "[encoded data removed]",
      "text/plain": [
       "<Figure size 576x432 with 1 Axes>"
      ]
     },
     "metadata": {
      "needs_background": "light"
     },
     "output_type": "display_data"
    }
   ],
   "source": [
    "x_, y_ = get_xy_GetInDegCnt(G5)\n",
    "_, y_fitted_ = fit_xy(x_, y_)\n",
    "\n",
    "plt.figure(figsize= [8, 6])\n",
    "plt.loglog(x_, y_)\n",
    "plt.loglog(x_, y_fitted_)\n",
    "plt.show()"
   ]
  },
  {
   "cell_type": "markdown",
   "metadata": {},
   "source": [
    "### Wiki-vote"
   ]
  },
  {
   "cell_type": "code",
   "execution_count": 36,
   "metadata": {},
   "outputs": [
    {
     "data": {
      "image/png": "[encoded data removed]",
      "text/plain": [
       "<Figure size 576x432 with 1 Axes>"
      ]
     },
     "metadata": {
      "needs_background": "light"
     },
     "output_type": "display_data"
    }
   ],
   "source": [
    "case_name = \"wiki-Vote\"\n",
    "case_txt = case_name+\".txt\"\n",
    "g_hw0_q2 = snap.LoadEdgeList(snap.PNGraph, case_txt, 0, 1)\n",
    "\n",
    "x_, y_ = get_xy_GetInDegCnt(g_hw0_q2)\n",
    "_, y_fitted_ = fit_xy(x_, y_)\n",
    "\n",
    "plt.figure(figsize= [8, 6])\n",
    "plt.loglog(x_, y_)\n",
    "plt.loglog(x_, y_fitted_)\n",
    "plt.show()"
   ]
  },
  {
   "cell_type": "markdown",
   "metadata": {},
   "source": [
    "### Thought"
   ]
  },
  {
   "cell_type": "code",
   "execution_count": 37,
   "metadata": {},
   "outputs": [
    {
     "name": "stdout",
     "output_type": "stream",
     "text": [
      "--- Stackoverflow ---\n",
      " 1 in-degree: 38306 nodes\n",
      " 2 in-degree: 8676 nodes\n",
      " 3 in-degree: 4013 nodes\n",
      " 4 in-degree: 2405 nodes\n",
      " 5 in-degree: 1572 nodes\n",
      " 6 in-degree: 1178 nodes\n",
      " 7 in-degree: 909 nodes\n",
      " 8 in-degree: 701 nodes\n",
      " 9 in-degree: 539 nodes\n",
      " 10 in-degree: 441 nodes\n",
      " 11 in-degree: 410 nodes\n",
      " 12 in-degree: 349 nodes\n",
      " 13 in-degree: 294 nodes\n",
      " 14 in-degree: 248 nodes\n",
      " 15 in-degree: 211 nodes\n",
      " 16 in-degree: 198 nodes\n",
      " 17 in-degree: 167 nodes\n",
      " 18 in-degree: 161 nodes\n",
      " 19 in-degree: 130 nodes\n",
      " 20 in-degree: 153 nodes\n",
      " 21 in-degree: 122 nodes\n",
      " 22 in-degree: 120 nodes\n",
      " 23 in-degree: 99 nodes\n",
      " 24 in-degree: 85 nodes\n",
      " 25 in-degree: 77 nodes\n",
      " 26 in-degree: 76 nodes\n",
      " 27 in-degree: 80 nodes\n",
      " 28 in-degree: 57 nodes\n",
      " 29 in-degree: 65 nodes\n",
      " 30 in-degree: 73 nodes\n",
      " 31 in-degree: 52 nodes\n",
      " 32 in-degree: 48 nodes\n",
      " 33 in-degree: 52 nodes\n",
      " 34 in-degree: 40 nodes\n",
      " 35 in-degree: 51 nodes\n",
      " 36 in-degree: 47 nodes\n",
      " 37 in-degree: 42 nodes\n",
      " 38 in-degree: 46 nodes\n",
      " 39 in-degree: 44 nodes\n",
      " 40 in-degree: 35 nodes\n",
      " 41 in-degree: 33 nodes\n",
      " 42 in-degree: 27 nodes\n",
      " 43 in-degree: 28 nodes\n",
      " 44 in-degree: 19 nodes\n",
      " 45 in-degree: 21 nodes\n",
      " 46 in-degree: 27 nodes\n",
      " 47 in-degree: 24 nodes\n",
      " 48 in-degree: 29 nodes\n",
      " 49 in-degree: 18 nodes\n",
      " 50 in-degree: 20 nodes\n",
      " 51 in-degree: 18 nodes\n",
      " 52 in-degree: 14 nodes\n",
      " 53 in-degree: 21 nodes\n",
      " 54 in-degree: 12 nodes\n",
      " 55 in-degree: 9 nodes\n",
      " 56 in-degree: 15 nodes\n",
      " 57 in-degree: 19 nodes\n",
      " 58 in-degree: 20 nodes\n",
      " 59 in-degree: 15 nodes\n",
      " 60 in-degree: 15 nodes\n",
      " 61 in-degree: 12 nodes\n",
      " 62 in-degree: 6 nodes\n",
      " 63 in-degree: 10 nodes\n",
      " 64 in-degree: 10 nodes\n",
      " 65 in-degree: 11 nodes\n",
      " 66 in-degree: 8 nodes\n",
      " 67 in-degree: 11 nodes\n",
      " 68 in-degree: 15 nodes\n",
      " 69 in-degree: 12 nodes\n",
      " 70 in-degree: 17 nodes\n",
      " 71 in-degree: 7 nodes\n",
      " 72 in-degree: 17 nodes\n",
      " 73 in-degree: 6 nodes\n",
      " 74 in-degree: 9 nodes\n",
      " 75 in-degree: 8 nodes\n",
      " 76 in-degree: 15 nodes\n",
      " 77 in-degree: 4 nodes\n",
      " 78 in-degree: 7 nodes\n",
      " 79 in-degree: 4 nodes\n",
      " 80 in-degree: 10 nodes\n",
      " 81 in-degree: 7 nodes\n",
      " 82 in-degree: 5 nodes\n",
      " 83 in-degree: 7 nodes\n",
      " 84 in-degree: 8 nodes\n",
      " 85 in-degree: 4 nodes\n",
      " 86 in-degree: 9 nodes\n",
      " 87 in-degree: 8 nodes\n",
      " 88 in-degree: 6 nodes\n",
      " 89 in-degree: 5 nodes\n",
      " 90 in-degree: 10 nodes\n",
      " 91 in-degree: 6 nodes\n",
      " 92 in-degree: 7 nodes\n",
      " 93 in-degree: 3 nodes\n",
      " 94 in-degree: 4 nodes\n",
      " 95 in-degree: 7 nodes\n",
      " 96 in-degree: 3 nodes\n",
      " 97 in-degree: 9 nodes\n",
      " 98 in-degree: 5 nodes\n",
      " 99 in-degree: 5 nodes\n",
      " 100 in-degree: 5 nodes\n",
      " 101 in-degree: 5 nodes\n",
      " 102 in-degree: 2 nodes\n",
      " 103 in-degree: 2 nodes\n",
      " 104 in-degree: 5 nodes\n",
      " 105 in-degree: 4 nodes\n",
      " 106 in-degree: 3 nodes\n",
      " 107 in-degree: 1 nodes\n",
      " 108 in-degree: 5 nodes\n",
      " 109 in-degree: 3 nodes\n",
      " 110 in-degree: 4 nodes\n",
      " 111 in-degree: 6 nodes\n",
      " 112 in-degree: 3 nodes\n",
      " 113 in-degree: 3 nodes\n",
      " 115 in-degree: 3 nodes\n",
      " 116 in-degree: 6 nodes\n",
      " 117 in-degree: 1 nodes\n",
      " 118 in-degree: 3 nodes\n",
      " 119 in-degree: 6 nodes\n",
      " 120 in-degree: 4 nodes\n",
      " 122 in-degree: 2 nodes\n",
      " 123 in-degree: 2 nodes\n",
      " 124 in-degree: 4 nodes\n",
      " 125 in-degree: 1 nodes\n",
      " 126 in-degree: 6 nodes\n",
      " 127 in-degree: 5 nodes\n",
      " 128 in-degree: 3 nodes\n",
      " 129 in-degree: 1 nodes\n",
      " 130 in-degree: 3 nodes\n",
      " 131 in-degree: 3 nodes\n",
      " 132 in-degree: 2 nodes\n",
      " 133 in-degree: 3 nodes\n",
      " 134 in-degree: 1 nodes\n",
      " 135 in-degree: 4 nodes\n",
      " 136 in-degree: 1 nodes\n",
      " 138 in-degree: 1 nodes\n",
      " 139 in-degree: 3 nodes\n",
      " 140 in-degree: 3 nodes\n",
      " 141 in-degree: 1 nodes\n",
      " 143 in-degree: 4 nodes\n",
      " 147 in-degree: 2 nodes\n",
      " 148 in-degree: 3 nodes\n",
      " 151 in-degree: 2 nodes\n",
      " 152 in-degree: 1 nodes\n",
      " 153 in-degree: 2 nodes\n",
      " 154 in-degree: 5 nodes\n",
      " 157 in-degree: 2 nodes\n",
      " 158 in-degree: 2 nodes\n",
      " 160 in-degree: 3 nodes\n",
      " 161 in-degree: 2 nodes\n",
      " 162 in-degree: 1 nodes\n",
      " 163 in-degree: 1 nodes\n",
      " 164 in-degree: 1 nodes\n",
      " 166 in-degree: 3 nodes\n",
      " 167 in-degree: 1 nodes\n",
      " 169 in-degree: 1 nodes\n",
      " 170 in-degree: 4 nodes\n",
      " 172 in-degree: 1 nodes\n",
      " 173 in-degree: 4 nodes\n",
      " 174 in-degree: 2 nodes\n",
      " 175 in-degree: 1 nodes\n",
      " 176 in-degree: 1 nodes\n",
      " 177 in-degree: 1 nodes\n",
      " 178 in-degree: 3 nodes\n",
      " 179 in-degree: 1 nodes\n",
      " 180 in-degree: 3 nodes\n",
      " 181 in-degree: 2 nodes\n",
      " 182 in-degree: 1 nodes\n",
      " 183 in-degree: 1 nodes\n",
      " 187 in-degree: 1 nodes\n",
      " 188 in-degree: 1 nodes\n",
      " 189 in-degree: 1 nodes\n",
      " 190 in-degree: 2 nodes\n",
      " 192 in-degree: 1 nodes\n",
      " 193 in-degree: 4 nodes\n",
      " 194 in-degree: 1 nodes\n",
      " 197 in-degree: 1 nodes\n",
      " 198 in-degree: 1 nodes\n",
      " 199 in-degree: 4 nodes\n",
      " 200 in-degree: 1 nodes\n",
      " 202 in-degree: 1 nodes\n",
      " 203 in-degree: 1 nodes\n",
      " 208 in-degree: 1 nodes\n",
      " 209 in-degree: 1 nodes\n",
      " 212 in-degree: 1 nodes\n",
      " 215 in-degree: 1 nodes\n",
      " 216 in-degree: 2 nodes\n",
      " 217 in-degree: 2 nodes\n",
      " 223 in-degree: 2 nodes\n",
      " 224 in-degree: 1 nodes\n",
      " 225 in-degree: 1 nodes\n",
      " 226 in-degree: 1 nodes\n",
      " 230 in-degree: 1 nodes\n",
      " 231 in-degree: 1 nodes\n",
      " 233 in-degree: 2 nodes\n",
      " 237 in-degree: 1 nodes\n",
      " 239 in-degree: 1 nodes\n",
      " 241 in-degree: 3 nodes\n",
      " 242 in-degree: 1 nodes\n",
      " 244 in-degree: 1 nodes\n",
      " 252 in-degree: 2 nodes\n",
      " 254 in-degree: 2 nodes\n",
      " 258 in-degree: 3 nodes\n",
      " 259 in-degree: 1 nodes\n",
      " 260 in-degree: 1 nodes\n",
      " 261 in-degree: 1 nodes\n",
      " 266 in-degree: 1 nodes\n",
      " 267 in-degree: 1 nodes\n",
      " 268 in-degree: 1 nodes\n",
      " 269 in-degree: 1 nodes\n",
      " 270 in-degree: 1 nodes\n",
      " 272 in-degree: 1 nodes\n",
      " 274 in-degree: 1 nodes\n",
      " 282 in-degree: 2 nodes\n",
      " 283 in-degree: 1 nodes\n",
      " 287 in-degree: 1 nodes\n",
      " 288 in-degree: 2 nodes\n",
      " 289 in-degree: 1 nodes\n",
      " 291 in-degree: 2 nodes\n",
      " 300 in-degree: 1 nodes\n",
      " 302 in-degree: 2 nodes\n",
      " 303 in-degree: 1 nodes\n",
      " 305 in-degree: 1 nodes\n",
      " 306 in-degree: 1 nodes\n",
      " 309 in-degree: 1 nodes\n",
      " 321 in-degree: 1 nodes\n",
      " 327 in-degree: 1 nodes\n",
      " 329 in-degree: 1 nodes\n",
      " 331 in-degree: 1 nodes\n",
      " 333 in-degree: 1 nodes\n",
      " 338 in-degree: 1 nodes\n",
      " 339 in-degree: 1 nodes\n",
      " 342 in-degree: 1 nodes\n",
      " 346 in-degree: 1 nodes\n",
      " 347 in-degree: 1 nodes\n",
      " 349 in-degree: 2 nodes\n",
      " 350 in-degree: 1 nodes\n",
      " 359 in-degree: 1 nodes\n",
      " 370 in-degree: 1 nodes\n",
      " 381 in-degree: 1 nodes\n",
      " 385 in-degree: 2 nodes\n",
      " 390 in-degree: 1 nodes\n",
      " 413 in-degree: 2 nodes\n",
      " 415 in-degree: 1 nodes\n",
      " 417 in-degree: 1 nodes\n",
      " 420 in-degree: 1 nodes\n",
      " 432 in-degree: 1 nodes\n",
      " 435 in-degree: 1 nodes\n",
      " 437 in-degree: 1 nodes\n",
      " 438 in-degree: 1 nodes\n",
      " 441 in-degree: 2 nodes\n",
      " 481 in-degree: 1 nodes\n",
      " 491 in-degree: 1 nodes\n",
      " 497 in-degree: 1 nodes\n",
      " 503 in-degree: 1 nodes\n",
      " 508 in-degree: 1 nodes\n",
      " 549 in-degree: 1 nodes\n",
      " 567 in-degree: 1 nodes\n",
      " 589 in-degree: 1 nodes\n",
      " 592 in-degree: 1 nodes\n",
      " 599 in-degree: 1 nodes\n",
      " 627 in-degree: 1 nodes\n",
      " 631 in-degree: 1 nodes\n",
      " 642 in-degree: 1 nodes\n",
      " 647 in-degree: 1 nodes\n",
      " 680 in-degree: 1 nodes\n",
      " 686 in-degree: 1 nodes\n",
      " 701 in-degree: 1 nodes\n",
      " 702 in-degree: 1 nodes\n",
      " 715 in-degree: 1 nodes\n",
      " 753 in-degree: 1 nodes\n",
      " 767 in-degree: 1 nodes\n",
      " 781 in-degree: 1 nodes\n",
      " 811 in-degree: 1 nodes\n",
      " 816 in-degree: 1 nodes\n",
      " 847 in-degree: 1 nodes\n",
      " 850 in-degree: 1 nodes\n",
      " 860 in-degree: 1 nodes\n",
      " 881 in-degree: 1 nodes\n",
      " 919 in-degree: 1 nodes\n",
      " 924 in-degree: 1 nodes\n",
      " 930 in-degree: 1 nodes\n",
      " 937 in-degree: 1 nodes\n",
      " 941 in-degree: 1 nodes\n",
      " 1,179 in-degree: 1 nodes\n",
      " 1,194 in-degree: 1 nodes\n",
      " 1,216 in-degree: 1 nodes\n",
      " 1,233 in-degree: 1 nodes\n",
      " 1,266 in-degree: 1 nodes\n",
      " 1,379 in-degree: 1 nodes\n",
      " 1,513 in-degree: 1 nodes\n",
      " 1,722 in-degree: 1 nodes\n",
      " 1,940 in-degree: 1 nodes\n",
      " 2,340 in-degree: 1 nodes\n",
      " 2,448 in-degree: 1 nodes\n",
      " 2,714 in-degree: 1 nodes\n",
      " 2,828 in-degree: 1 nodes\n",
      " 3,999 in-degree: 1 nodes\n"
     ]
    }
   ],
   "source": [
    "print (\"--- Stackoverflow ---\")\n",
    "_ = get_xy_GetInDegCnt(G5, True)"
   ]
  },
  {
   "cell_type": "code",
   "execution_count": 38,
   "metadata": {},
   "outputs": [
    {
     "name": "stdout",
     "output_type": "stream",
     "text": [
      "--- Wiki-vote ---\n",
      " 1 in-degree: 78 nodes\n",
      " 2 in-degree: 45 nodes\n",
      " 3 in-degree: 51 nodes\n",
      " 4 in-degree: 40 nodes\n",
      " 5 in-degree: 54 nodes\n",
      " 6 in-degree: 42 nodes\n",
      " 7 in-degree: 44 nodes\n",
      " 8 in-degree: 39 nodes\n",
      " 9 in-degree: 38 nodes\n",
      " 10 in-degree: 44 nodes\n",
      " 11 in-degree: 44 nodes\n",
      " 12 in-degree: 44 nodes\n",
      " 13 in-degree: 44 nodes\n",
      " 14 in-degree: 35 nodes\n",
      " 15 in-degree: 34 nodes\n",
      " 16 in-degree: 24 nodes\n",
      " 17 in-degree: 35 nodes\n",
      " 18 in-degree: 36 nodes\n",
      " 19 in-degree: 19 nodes\n",
      " 20 in-degree: 27 nodes\n",
      " 21 in-degree: 29 nodes\n",
      " 22 in-degree: 38 nodes\n",
      " 23 in-degree: 19 nodes\n",
      " 24 in-degree: 30 nodes\n",
      " 25 in-degree: 22 nodes\n",
      " 26 in-degree: 26 nodes\n",
      " 27 in-degree: 21 nodes\n",
      " 28 in-degree: 28 nodes\n",
      " 29 in-degree: 30 nodes\n",
      " 30 in-degree: 27 nodes\n",
      " 31 in-degree: 26 nodes\n",
      " 32 in-degree: 19 nodes\n",
      " 33 in-degree: 28 nodes\n",
      " 34 in-degree: 33 nodes\n",
      " 35 in-degree: 22 nodes\n",
      " 36 in-degree: 10 nodes\n",
      " 37 in-degree: 22 nodes\n",
      " 38 in-degree: 30 nodes\n",
      " 39 in-degree: 28 nodes\n",
      " 40 in-degree: 23 nodes\n",
      " 41 in-degree: 20 nodes\n",
      " 42 in-degree: 23 nodes\n",
      " 43 in-degree: 29 nodes\n",
      " 44 in-degree: 20 nodes\n",
      " 45 in-degree: 21 nodes\n",
      " 46 in-degree: 29 nodes\n",
      " 47 in-degree: 31 nodes\n",
      " 48 in-degree: 30 nodes\n",
      " 49 in-degree: 24 nodes\n",
      " 50 in-degree: 24 nodes\n",
      " 51 in-degree: 26 nodes\n",
      " 52 in-degree: 19 nodes\n",
      " 53 in-degree: 26 nodes\n",
      " 54 in-degree: 28 nodes\n",
      " 55 in-degree: 19 nodes\n",
      " 56 in-degree: 17 nodes\n",
      " 57 in-degree: 29 nodes\n",
      " 58 in-degree: 21 nodes\n",
      " 59 in-degree: 18 nodes\n",
      " 60 in-degree: 23 nodes\n",
      " 61 in-degree: 21 nodes\n",
      " 62 in-degree: 12 nodes\n",
      " 63 in-degree: 21 nodes\n",
      " 64 in-degree: 22 nodes\n",
      " 65 in-degree: 19 nodes\n",
      " 66 in-degree: 12 nodes\n",
      " 67 in-degree: 14 nodes\n",
      " 68 in-degree: 8 nodes\n",
      " 69 in-degree: 14 nodes\n",
      " 70 in-degree: 8 nodes\n",
      " 71 in-degree: 15 nodes\n",
      " 72 in-degree: 13 nodes\n",
      " 73 in-degree: 12 nodes\n",
      " 74 in-degree: 19 nodes\n",
      " 75 in-degree: 9 nodes\n",
      " 76 in-degree: 6 nodes\n",
      " 77 in-degree: 14 nodes\n",
      " 78 in-degree: 10 nodes\n",
      " 79 in-degree: 11 nodes\n",
      " 80 in-degree: 7 nodes\n",
      " 81 in-degree: 14 nodes\n",
      " 82 in-degree: 14 nodes\n",
      " 83 in-degree: 8 nodes\n",
      " 84 in-degree: 5 nodes\n",
      " 85 in-degree: 8 nodes\n",
      " 86 in-degree: 3 nodes\n",
      " 87 in-degree: 6 nodes\n",
      " 88 in-degree: 11 nodes\n",
      " 89 in-degree: 7 nodes\n",
      " 90 in-degree: 11 nodes\n",
      " 91 in-degree: 2 nodes\n",
      " 92 in-degree: 4 nodes\n",
      " 93 in-degree: 8 nodes\n",
      " 94 in-degree: 6 nodes\n",
      " 95 in-degree: 6 nodes\n",
      " 96 in-degree: 1 nodes\n",
      " 97 in-degree: 8 nodes\n",
      " 99 in-degree: 5 nodes\n",
      " 100 in-degree: 6 nodes\n",
      " 101 in-degree: 10 nodes\n",
      " 102 in-degree: 1 nodes\n",
      " 103 in-degree: 1 nodes\n",
      " 104 in-degree: 7 nodes\n",
      " 105 in-degree: 7 nodes\n",
      " 106 in-degree: 2 nodes\n",
      " 107 in-degree: 5 nodes\n",
      " 108 in-degree: 3 nodes\n",
      " 109 in-degree: 3 nodes\n",
      " 110 in-degree: 5 nodes\n",
      " 111 in-degree: 2 nodes\n",
      " 112 in-degree: 1 nodes\n",
      " 113 in-degree: 3 nodes\n",
      " 114 in-degree: 1 nodes\n",
      " 115 in-degree: 4 nodes\n",
      " 116 in-degree: 3 nodes\n",
      " 117 in-degree: 6 nodes\n",
      " 118 in-degree: 3 nodes\n",
      " 121 in-degree: 1 nodes\n",
      " 122 in-degree: 3 nodes\n",
      " 123 in-degree: 1 nodes\n",
      " 124 in-degree: 2 nodes\n",
      " 126 in-degree: 2 nodes\n",
      " 127 in-degree: 2 nodes\n",
      " 128 in-degree: 3 nodes\n",
      " 129 in-degree: 1 nodes\n",
      " 130 in-degree: 2 nodes\n",
      " 131 in-degree: 2 nodes\n",
      " 132 in-degree: 1 nodes\n",
      " 133 in-degree: 2 nodes\n",
      " 134 in-degree: 2 nodes\n",
      " 135 in-degree: 3 nodes\n",
      " 136 in-degree: 3 nodes\n",
      " 137 in-degree: 1 nodes\n",
      " 139 in-degree: 1 nodes\n",
      " 140 in-degree: 2 nodes\n",
      " 141 in-degree: 2 nodes\n",
      " 144 in-degree: 2 nodes\n",
      " 145 in-degree: 3 nodes\n",
      " 146 in-degree: 1 nodes\n",
      " 147 in-degree: 1 nodes\n",
      " 148 in-degree: 1 nodes\n",
      " 149 in-degree: 4 nodes\n",
      " 151 in-degree: 1 nodes\n",
      " 153 in-degree: 2 nodes\n",
      " 154 in-degree: 1 nodes\n",
      " 155 in-degree: 1 nodes\n",
      " 158 in-degree: 2 nodes\n",
      " 160 in-degree: 1 nodes\n",
      " 162 in-degree: 4 nodes\n",
      " 164 in-degree: 2 nodes\n",
      " 165 in-degree: 2 nodes\n",
      " 167 in-degree: 1 nodes\n",
      " 170 in-degree: 1 nodes\n",
      " 173 in-degree: 1 nodes\n",
      " 175 in-degree: 2 nodes\n",
      " 178 in-degree: 1 nodes\n",
      " 181 in-degree: 3 nodes\n",
      " 186 in-degree: 2 nodes\n",
      " 188 in-degree: 1 nodes\n",
      " 189 in-degree: 1 nodes\n",
      " 190 in-degree: 1 nodes\n",
      " 191 in-degree: 1 nodes\n",
      " 192 in-degree: 2 nodes\n",
      " 193 in-degree: 2 nodes\n",
      " 195 in-degree: 2 nodes\n",
      " 197 in-degree: 1 nodes\n",
      " 203 in-degree: 1 nodes\n",
      " 208 in-degree: 1 nodes\n",
      " 213 in-degree: 1 nodes\n",
      " 217 in-degree: 1 nodes\n",
      " 219 in-degree: 1 nodes\n",
      " 223 in-degree: 1 nodes\n",
      " 228 in-degree: 1 nodes\n",
      " 231 in-degree: 1 nodes\n",
      " 232 in-degree: 1 nodes\n",
      " 244 in-degree: 1 nodes\n",
      " 245 in-degree: 1 nodes\n",
      " 254 in-degree: 1 nodes\n",
      " 259 in-degree: 1 nodes\n",
      " 264 in-degree: 1 nodes\n",
      " 265 in-degree: 1 nodes\n",
      " 266 in-degree: 1 nodes\n",
      " 272 in-degree: 1 nodes\n",
      " 274 in-degree: 1 nodes\n",
      " 309 in-degree: 1 nodes\n",
      " 331 in-degree: 1 nodes\n",
      " 340 in-degree: 1 nodes\n",
      " 361 in-degree: 1 nodes\n",
      " 457 in-degree: 1 nodes\n"
     ]
    }
   ],
   "source": [
    "print (\"--- Wiki-vote ---\")\n",
    "_ = get_xy_GetInDegCnt(g_hw0_q2, True)"
   ]
  },
  {
   "cell_type": "code",
   "execution_count": null,
   "metadata": {},
   "outputs": [],
   "source": []
  }
 ],
 "metadata": {
  "kernelspec": {
   "display_name": "Python 3",
   "language": "python",
   "name": "python3"
  },
  "language_info": {
   "codemirror_mode": {
    "name": "ipython",
    "version": 3
   },
   "file_extension": ".py",
   "mimetype": "text/x-python",
   "name": "python",
   "nbconvert_exporter": "python",
   "pygments_lexer": "ipython3",
   "version": "3.7.7"
  },
  "toc": {
   "base_numbering": 1,
   "nav_menu": {},
   "number_sections": true,
   "sideBar": true,
   "skip_h1_title": false,
   "title_cell": "Table of Contents",
   "title_sidebar": "Contents",
   "toc_cell": false,
   "toc_position": {},
   "toc_section_display": true,
   "toc_window_display": false
  }
 },
 "nbformat": 4,
 "nbformat_minor": 4
}
